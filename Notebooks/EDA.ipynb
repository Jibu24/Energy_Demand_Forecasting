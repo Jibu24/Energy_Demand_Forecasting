{
 "cells": [
  {
   "cell_type": "code",
   "execution_count": 5,
   "metadata": {},
   "outputs": [],
   "source": [
    "import numpy as np\n",
    "import pandas as pd\n",
    "import seaborn as sns\n",
    "from sklearn.model_selection import train_test_split\n",
    "from sklearn.preprocessing import StandardScaler\n",
    "from sklearn.linear_model import LinearRegression\n",
    "import requests\n",
    "import os\n",
    "import matplotlib.pyplot as plt"
   ]
  },
  {
   "cell_type": "code",
   "execution_count": 8,
   "metadata": {},
   "outputs": [
    {
     "name": "stdout",
     "output_type": "stream",
     "text": [
      "26TPKw90CblDYys6OptSBsJH6jerRkeBvDOaxlVl\n"
     ]
    }
   ],
   "source": [
    "from dotenv import load_dotenv\n",
    "import os\n",
    "load_dotenv()  # reads the .env file automatically"
   ]
  },
  {
   "cell_type": "code",
   "execution_count": 23,
   "metadata": {},
   "outputs": [
    {
     "name": "stdout",
     "output_type": "stream",
     "text": [
      "Fetched 5000 rows @ offset 0 (5,000/209,352)\n",
      "Fetched 5000 rows @ offset 5,000 (10,000/209,352)\n",
      "Fetched 5000 rows @ offset 10,000 (15,000/209,352)\n",
      "Fetched 5000 rows @ offset 15,000 (20,000/209,352)\n",
      "Fetched 5000 rows @ offset 20,000 (25,000/209,352)\n",
      "Fetched 5000 rows @ offset 25,000 (30,000/209,352)\n",
      "Fetched 5000 rows @ offset 30,000 (35,000/209,352)\n",
      "Fetched 5000 rows @ offset 35,000 (40,000/209,352)\n",
      "Fetched 5000 rows @ offset 40,000 (45,000/209,352)\n",
      "Fetched 5000 rows @ offset 45,000 (50,000/209,352)\n",
      "Fetched 5000 rows @ offset 50,000 (55,000/209,352)\n",
      "Fetched 5000 rows @ offset 55,000 (60,000/209,352)\n",
      "Fetched 5000 rows @ offset 60,000 (65,000/209,352)\n",
      "Fetched 5000 rows @ offset 65,000 (70,000/209,352)\n",
      "Fetched 5000 rows @ offset 70,000 (75,000/209,352)\n",
      "Fetched 5000 rows @ offset 75,000 (80,000/209,352)\n",
      "Fetched 5000 rows @ offset 80,000 (85,000/209,352)\n",
      "Fetched 5000 rows @ offset 85,000 (90,000/209,352)\n",
      "Fetched 5000 rows @ offset 90,000 (95,000/209,352)\n",
      "Fetched 5000 rows @ offset 95,000 (100,000/209,352)\n",
      "Fetched 5000 rows @ offset 100,000 (105,000/209,352)\n",
      "Fetched 5000 rows @ offset 105,000 (110,000/209,352)\n",
      "Fetched 5000 rows @ offset 110,000 (115,000/209,352)\n",
      "Fetched 5000 rows @ offset 115,000 (120,000/209,352)\n",
      "Fetched 5000 rows @ offset 120,000 (125,000/209,352)\n",
      "Fetched 5000 rows @ offset 125,000 (130,000/209,352)\n",
      "Fetched 5000 rows @ offset 130,000 (135,000/209,352)\n",
      "Fetched 5000 rows @ offset 135,000 (140,000/209,352)\n",
      "Fetched 5000 rows @ offset 140,000 (145,000/209,352)\n",
      "Fetched 5000 rows @ offset 145,000 (150,000/209,352)\n",
      "Fetched 5000 rows @ offset 150,000 (155,000/209,352)\n",
      "Fetched 5000 rows @ offset 155,000 (160,000/209,352)\n",
      "Fetched 5000 rows @ offset 160,000 (165,000/209,352)\n",
      "Fetched 5000 rows @ offset 165,000 (170,000/209,352)\n",
      "Fetched 5000 rows @ offset 170,000 (175,000/209,352)\n",
      "Fetched 5000 rows @ offset 175,000 (180,000/209,352)\n",
      "Fetched 5000 rows @ offset 180,000 (185,000/209,352)\n",
      "Fetched 5000 rows @ offset 185,000 (190,000/209,352)\n",
      "Fetched 5000 rows @ offset 190,000 (195,000/209,352)\n",
      "Fetched 5000 rows @ offset 195,000 (200,000/209,352)\n",
      "Fetched 5000 rows @ offset 200,000 (205,000/209,352)\n",
      "Fetched 4352 rows @ offset 205,000 (209,352/209,352)\n",
      "(209352, 7)\n",
      "          period respondent respondent-name fueltype        type-name  value  \\\n",
      "0  2025-08-31T00        CAL      California      BAT  Battery storage     11   \n",
      "1  2025-08-31T00        CAL      California      COL             Coal    202   \n",
      "2  2025-08-31T00        CAL      California      GEO       Geothermal    304   \n",
      "3  2025-08-31T00        CAL      California       NG      Natural Gas  13248   \n",
      "4  2025-08-31T00        CAL      California      NUC          Nuclear   2267   \n",
      "\n",
      "     value-units  \n",
      "0  megawatthours  \n",
      "1  megawatthours  \n",
      "2  megawatthours  \n",
      "3  megawatthours  \n",
      "4  megawatthours  \n"
     ]
    }
   ],
   "source": [
    "import os, requests, pandas as pd\n",
    "\n",
    "API_KEY = os.getenv(\"EIA_KEY\")  # set: export EIA_KEY=\"your_key\"\n",
    "BASE = \"https://api.eia.gov/v2/electricity/rto/fuel-type-data/data/\"\n",
    "\n",
    "FUELTYPES = [\"BAT\",\"COL\",\"GEO\",\"NG\",\"NUC\",\"OES\",\"OIL\",\"OTH\",\n",
    "             \"PS\",\"SNB\",\"SUN\",\"UES\",\"UNK\",\"WAT\",\"WNB\",\"WND\"]\n",
    "\n",
    "COMMON = {\n",
    "    \"frequency\": \"hourly\",\n",
    "    \"data[0]\": \"value\",\n",
    "    \"facets[respondent][]\": \"CAL\",\n",
    "    \"start\": \"2023-01-01T00\",\n",
    "    \"end\":   \"2025-08-31T00\",\n",
    "    \"sort[0][column]\": \"period\",\n",
    "    \"sort[0][direction]\": \"desc\",\n",
    "    \"length\": 5000\n",
    "}\n",
    "\n",
    "def fetch_all_pages():\n",
    "    all_rows, offset = [], 0\n",
    "    while True:\n",
    "        params = COMMON.copy()\n",
    "        params[\"api_key\"] = API_KEY\n",
    "        params[\"offset\"] = offset\n",
    "        # add fuels\n",
    "        for ft in FUELTYPES:\n",
    "            params.setdefault(\"facets[fueltype][]\", [])\n",
    "            params[\"facets[fueltype][]\"].append(ft)\n",
    "\n",
    "        r = requests.get(BASE, params=params, timeout=60)\n",
    "        r.raise_for_status()\n",
    "        resp = r.json()[\"response\"]\n",
    "\n",
    "        rows = resp.get(\"data\", [])\n",
    "        all_rows.extend(rows)\n",
    "        total = int(resp.get(\"total\", 0))\n",
    "        print(f\"Fetched {len(rows):4d} rows @ offset {offset:,} \"\n",
    "              f\"({len(all_rows):,}/{total:,})\")\n",
    "\n",
    "        # stop when last page (fewer than requested) or reached total\n",
    "        if len(rows) < params[\"length\"] or offset + params[\"length\"] >= total:\n",
    "            break\n",
    "        offset += params[\"length\"]\n",
    "\n",
    "    return pd.DataFrame(all_rows)\n",
    "\n",
    "df = fetch_all_pages()\n",
    "print(df.shape)\n",
    "print(df.head())\n",
    "# Optional: save\n",
    "# df.to_csv(\"eia_CAL_fueltype_2023_2025-08.csv\", index=False)"
   ]
  },
  {
   "cell_type": "code",
   "execution_count": 24,
   "metadata": {},
   "outputs": [
    {
     "data": {
      "text/plain": [
       "(209352, 7)"
      ]
     },
     "execution_count": 24,
     "metadata": {},
     "output_type": "execute_result"
    }
   ],
   "source": [
    "df.shape"
   ]
  },
  {
   "cell_type": "code",
   "execution_count": 25,
   "metadata": {},
   "outputs": [
    {
     "data": {
      "text/html": [
       "<div>\n",
       "<style scoped>\n",
       "    .dataframe tbody tr th:only-of-type {\n",
       "        vertical-align: middle;\n",
       "    }\n",
       "\n",
       "    .dataframe tbody tr th {\n",
       "        vertical-align: top;\n",
       "    }\n",
       "\n",
       "    .dataframe thead th {\n",
       "        text-align: right;\n",
       "    }\n",
       "</style>\n",
       "<table border=\"1\" class=\"dataframe\">\n",
       "  <thead>\n",
       "    <tr style=\"text-align: right;\">\n",
       "      <th></th>\n",
       "      <th>period</th>\n",
       "      <th>respondent</th>\n",
       "      <th>respondent-name</th>\n",
       "      <th>fueltype</th>\n",
       "      <th>type-name</th>\n",
       "      <th>value</th>\n",
       "      <th>value-units</th>\n",
       "    </tr>\n",
       "  </thead>\n",
       "  <tbody>\n",
       "    <tr>\n",
       "      <th>0</th>\n",
       "      <td>2025-08-31T00</td>\n",
       "      <td>CAL</td>\n",
       "      <td>California</td>\n",
       "      <td>BAT</td>\n",
       "      <td>Battery storage</td>\n",
       "      <td>11</td>\n",
       "      <td>megawatthours</td>\n",
       "    </tr>\n",
       "    <tr>\n",
       "      <th>1</th>\n",
       "      <td>2025-08-31T00</td>\n",
       "      <td>CAL</td>\n",
       "      <td>California</td>\n",
       "      <td>COL</td>\n",
       "      <td>Coal</td>\n",
       "      <td>202</td>\n",
       "      <td>megawatthours</td>\n",
       "    </tr>\n",
       "    <tr>\n",
       "      <th>2</th>\n",
       "      <td>2025-08-31T00</td>\n",
       "      <td>CAL</td>\n",
       "      <td>California</td>\n",
       "      <td>GEO</td>\n",
       "      <td>Geothermal</td>\n",
       "      <td>304</td>\n",
       "      <td>megawatthours</td>\n",
       "    </tr>\n",
       "    <tr>\n",
       "      <th>3</th>\n",
       "      <td>2025-08-31T00</td>\n",
       "      <td>CAL</td>\n",
       "      <td>California</td>\n",
       "      <td>NG</td>\n",
       "      <td>Natural Gas</td>\n",
       "      <td>13248</td>\n",
       "      <td>megawatthours</td>\n",
       "    </tr>\n",
       "    <tr>\n",
       "      <th>4</th>\n",
       "      <td>2025-08-31T00</td>\n",
       "      <td>CAL</td>\n",
       "      <td>California</td>\n",
       "      <td>NUC</td>\n",
       "      <td>Nuclear</td>\n",
       "      <td>2267</td>\n",
       "      <td>megawatthours</td>\n",
       "    </tr>\n",
       "  </tbody>\n",
       "</table>\n",
       "</div>"
      ],
      "text/plain": [
       "          period respondent respondent-name fueltype        type-name  value  \\\n",
       "0  2025-08-31T00        CAL      California      BAT  Battery storage     11   \n",
       "1  2025-08-31T00        CAL      California      COL             Coal    202   \n",
       "2  2025-08-31T00        CAL      California      GEO       Geothermal    304   \n",
       "3  2025-08-31T00        CAL      California       NG      Natural Gas  13248   \n",
       "4  2025-08-31T00        CAL      California      NUC          Nuclear   2267   \n",
       "\n",
       "     value-units  \n",
       "0  megawatthours  \n",
       "1  megawatthours  \n",
       "2  megawatthours  \n",
       "3  megawatthours  \n",
       "4  megawatthours  "
      ]
     },
     "execution_count": 25,
     "metadata": {},
     "output_type": "execute_result"
    }
   ],
   "source": [
    "df.head()"
   ]
  },
  {
   "cell_type": "code",
   "execution_count": null,
   "metadata": {},
   "outputs": [],
   "source": []
  }
 ],
 "metadata": {
  "kernelspec": {
   "display_name": "myproject_env",
   "language": "python",
   "name": "python3"
  },
  "language_info": {
   "codemirror_mode": {
    "name": "ipython",
    "version": 3
   },
   "file_extension": ".py",
   "mimetype": "text/x-python",
   "name": "python",
   "nbconvert_exporter": "python",
   "pygments_lexer": "ipython3",
   "version": "3.13.2"
  }
 },
 "nbformat": 4,
 "nbformat_minor": 2
}
